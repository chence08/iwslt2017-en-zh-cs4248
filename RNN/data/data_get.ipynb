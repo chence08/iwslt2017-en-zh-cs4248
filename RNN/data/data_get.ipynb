{
 "cells": [
  {
   "cell_type": "code",
   "execution_count": 2,
   "metadata": {},
   "outputs": [
    {
     "name": "stderr",
     "output_type": "stream",
     "text": [
      "Found cached dataset iwslt2017 (/Users/haolong/.cache/huggingface/datasets/iwslt2017/iwslt2017-zh-en/1.0.0/03ce9110373117c6f6687719f49f269486a8cd49dcad2527993a316cd4b6ad49)\n"
     ]
    },
    {
     "data": {
      "application/vnd.jupyter.widget-view+json": {
       "model_id": "e09d439a97f24a6ebf414ccce2ef0ad8",
       "version_major": 2,
       "version_minor": 0
      },
      "text/plain": [
       "  0%|          | 0/3 [00:00<?, ?it/s]"
      ]
     },
     "metadata": {},
     "output_type": "display_data"
    }
   ],
   "source": [
    "from datasets import load_dataset\n",
    "raw_datasets = load_dataset('iwslt2017', 'iwslt2017-zh-en')"
   ]
  },
  {
   "cell_type": "code",
   "execution_count": null,
   "metadata": {},
   "outputs": [],
   "source": [
    "raw_datasets[\"train\"]['translation']"
   ]
  },
  {
   "cell_type": "code",
   "execution_count": 7,
   "metadata": {},
   "outputs": [
    {
     "name": "stdout",
     "output_type": "stream",
     "text": [
      "lines of Chinese:  240694\n",
      "lines of English:  240694\n",
      "-------- Get Corpus ! --------\n"
     ]
    }
   ],
   "source": [
    "    files = ['train', 'validation', 'test']\n",
    "    ch_path = 'corpus.ch'\n",
    "    en_path = 'corpus.en'\n",
    "    ch_lines = []\n",
    "    en_lines = []\n",
    "\n",
    "    for file in files:\n",
    "        corpus = raw_datasets[file]['translation']\n",
    "        for item in corpus:\n",
    "            ch_lines.append(item['zh'] + '\\n')\n",
    "            en_lines.append(item['en'] + '\\n')\n",
    "\n",
    "    with open(ch_path, \"w\") as fch:\n",
    "        fch.writelines(ch_lines)\n",
    "\n",
    "    with open(en_path, \"w\") as fen:\n",
    "        fen.writelines(en_lines)\n",
    "\n",
    "    # lines of Chinese: 240694\n",
    "    print(\"lines of Chinese: \", len(ch_lines))\n",
    "    # lines of English: 240694\n",
    "    print(\"lines of English: \", len(en_lines))\n",
    "    print(\"-------- Get Corpus ! --------\")\n"
   ]
  },
  {
   "cell_type": "code",
   "execution_count": null,
   "metadata": {},
   "outputs": [],
   "source": []
  }
 ],
 "metadata": {
  "kernelspec": {
   "display_name": "torch",
   "language": "python",
   "name": "python3"
  },
  "language_info": {
   "codemirror_mode": {
    "name": "ipython",
    "version": 3
   },
   "file_extension": ".py",
   "mimetype": "text/x-python",
   "name": "python",
   "nbconvert_exporter": "python",
   "pygments_lexer": "ipython3",
   "version": "3.9.15 | packaged by conda-forge | (main, Nov 22 2022, 08:48:25) \n[Clang 14.0.6 ]"
  },
  "orig_nbformat": 4,
  "vscode": {
   "interpreter": {
    "hash": "366bd0e816929564b8da31f5ec5d54b0e804cb407beb456598d4b1a5e6c495cd"
   }
  }
 },
 "nbformat": 4,
 "nbformat_minor": 2
}
